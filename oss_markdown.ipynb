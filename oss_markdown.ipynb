{
  "nbformat": 4,
  "nbformat_minor": 0,
  "metadata": {
    "colab": {
      "provenance": [],
      "authorship_tag": "ABX9TyOHcTKiBvKif2JnKr4QMCXO",
      "include_colab_link": true
    },
    "kernelspec": {
      "name": "python3",
      "display_name": "Python 3"
    },
    "language_info": {
      "name": "python"
    }
  },
  "cells": [
    {
      "cell_type": "markdown",
      "metadata": {
        "id": "view-in-github",
        "colab_type": "text"
      },
      "source": [
        "<a href=\"https://colab.research.google.com/github/Huggy2646/oss/blob/main/oss_markdown.ipynb\" target=\"_parent\"><img src=\"https://colab.research.google.com/assets/colab-badge.svg\" alt=\"Open In Colab\"/></a>"
      ]
    },
    {
      "cell_type": "markdown",
      "source": [
        "# oss개발\n",
        "<strong>Colab</strong>을 배우는 것"
      ],
      "metadata": {
        "id": "4A-ruLyqHf0m"
      }
    },
    {
      "cell_type": "code",
      "execution_count": 2,
      "metadata": {
        "id": "bqvOvf9XFNGe"
      },
      "outputs": [],
      "source": [
        "def my_method(name):\n",
        "  return name"
      ]
    },
    {
      "cell_type": "markdown",
      "source": [
        "<h1>Markdown</h1>\n",
        "<ol>\n",
        "<li>⚾ 야구공\n",
        "</ol>\n",
        "\n",
        "$ y=a^2$"
      ],
      "metadata": {
        "id": "fw4Dc34mIFSg"
      }
    },
    {
      "cell_type": "code",
      "source": [
        "name = \"Huggy\"\n",
        "print(my_method(name))"
      ],
      "metadata": {
        "colab": {
          "base_uri": "https://localhost:8080/"
        },
        "id": "vnRb3WiHJZ9k",
        "outputId": "fd4ac3c4-f4c1-4580-8696-c8cee2483bf0"
      },
      "execution_count": 3,
      "outputs": [
        {
          "output_type": "stream",
          "name": "stdout",
          "text": [
            "Huggy\n"
          ]
        }
      ]
    },
    {
      "cell_type": "code",
      "source": [
        "my = '1999-01-29' #@param{type:\"date\"}"
      ],
      "metadata": {
        "id": "ZB0gxEUYLKjc"
      },
      "execution_count": 5,
      "outputs": []
    },
    {
      "cell_type": "code",
      "source": [],
      "metadata": {
        "id": "5quQU6pzLpCr"
      },
      "execution_count": null,
      "outputs": []
    }
  ]
}